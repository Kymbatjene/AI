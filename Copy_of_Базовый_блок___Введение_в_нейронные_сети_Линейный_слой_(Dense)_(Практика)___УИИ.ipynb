{
  "nbformat": 4,
  "nbformat_minor": 0,
  "metadata": {
    "colab": {
      "provenance": []
    },
    "kernelspec": {
      "name": "python3",
      "display_name": "Python 3"
    },
    "language_info": {
      "name": "python"
    },
    "accelerator": "GPU"
  },
  "cells": [
    {
      "cell_type": "code",
      "metadata": {
        "id": "uwa6i4wAqA_o"
      },
      "source": [
        "from tensorflow.keras.models import Sequential"
      ],
      "execution_count": null,
      "outputs": []
    },
    {
      "cell_type": "code",
      "metadata": {
        "id": "5L7YjGn7qbEV"
      },
      "source": [
        "model = Sequential()"
      ],
      "execution_count": null,
      "outputs": []
    },
    {
      "cell_type": "code",
      "metadata": {
        "id": "pc872zkW1Z0o"
      },
      "source": [
        "from tensorflow.keras.layers import Dense\n",
        "model.add(Dense(32, input_dim=10))"
      ],
      "execution_count": null,
      "outputs": []
    },
    {
      "cell_type": "code",
      "metadata": {
        "id": "ao55osyv5Wkg"
      },
      "source": [
        "model.compile(loss='categorical_crossentropy', \n",
        "              optimizer='adam')"
      ],
      "execution_count": null,
      "outputs": []
    },
    {
      "cell_type": "code",
      "metadata": {
        "colab": {
          "base_uri": "https://localhost:8080/"
        },
        "id": "1z8jTdAj8Ty_",
        "outputId": "c7e761d5-7fcb-4aa1-f5a9-6ad03305a77e"
      },
      "source": [
        "model.summary()"
      ],
      "execution_count": null,
      "outputs": [
        {
          "output_type": "stream",
          "name": "stdout",
          "text": [
            "Model: \"sequential_3\"\n",
            "_________________________________________________________________\n",
            " Layer (type)                Output Shape              Param #   \n",
            "=================================================================\n",
            " dense_7 (Dense)             (None, 32)                352       \n",
            "                                                                 \n",
            "=================================================================\n",
            "Total params: 352\n",
            "Trainable params: 352\n",
            "Non-trainable params: 0\n",
            "_________________________________________________________________\n"
          ]
        }
      ]
    },
    {
      "cell_type": "code",
      "metadata": {
        "colab": {
          "base_uri": "https://localhost:8080/"
        },
        "id": "2xMiZgC8-3Iu",
        "outputId": "8e60cd97-028e-4eeb-fdf4-2a1830a630df"
      },
      "source": [
        "model = Sequential()\n",
        "model.add(Dense(32, input_dim=10))\n",
        "model.add(Dense(5))\n",
        "model.add(Dense(1))\n",
        "\n",
        "model.summary()"
      ],
      "execution_count": null,
      "outputs": [
        {
          "output_type": "stream",
          "name": "stdout",
          "text": [
            "Model: \"sequential_4\"\n",
            "_________________________________________________________________\n",
            " Layer (type)                Output Shape              Param #   \n",
            "=================================================================\n",
            " dense_8 (Dense)             (None, 32)                352       \n",
            "                                                                 \n",
            " dense_9 (Dense)             (None, 5)                 165       \n",
            "                                                                 \n",
            " dense_10 (Dense)            (None, 1)                 6         \n",
            "                                                                 \n",
            "=================================================================\n",
            "Total params: 523\n",
            "Trainable params: 523\n",
            "Non-trainable params: 0\n",
            "_________________________________________________________________\n"
          ]
        }
      ]
    },
    {
      "cell_type": "code",
      "metadata": {
        "id": "co9Q1s42SciM"
      },
      "source": [
        "from tensorflow.keras.datasets import mnist     # Библиотека с базой рукописных цифр\n",
        "from tensorflow.keras.models import Sequential  # Подключение класса создания модели Sequential\n",
        "from tensorflow.keras.layers import Dense       # Подключение класса Dense - полносвязный слой\n",
        "from tensorflow.keras import utils              # Утилиты для подготовки данных\n",
        "import numpy as np                              # Работа с массивами\n",
        "import matplotlib.pyplot as plt                 # Отрисовка изображений\n",
        "\n",
        "# Отрисовка изображений в ячейках ноутбука\n",
        "%matplotlib inline "
      ],
      "execution_count": null,
      "outputs": []
    },
    {
      "cell_type": "markdown",
      "metadata": {
        "id": "qcl42oYz1wUy"
      },
      "source": [
        "Чтобы чему-то научить вашу нейронную сеть, понадобится набор данных для задачи, которую вы собираетесь решать. У вас это набор картинок, на которых изображены рукописные цифры от **0** до **9**. Следующей строкой кода вы скачаете эти данные:\n",
        "* **x_train_org**, **y_train_org** – изображения для обучения нейронной сети;\n",
        "* **x_test_org**, **y_test_org** – изображения для тестирования нейронной сети.\n"
      ]
    },
    {
      "cell_type": "code",
      "metadata": {
        "id": "xnYVjcnJC4TY"
      },
      "source": [
        "# Загрузка из облака данных Mnist\n",
        "(x_train_org, y_train_org), (x_test_org, y_test_org) = mnist.load_data()"
      ],
      "execution_count": null,
      "outputs": []
    },
    {
      "cell_type": "markdown",
      "metadata": {
        "id": "Yoc55EeF5HSw"
      },
      "source": [
        "Сейчас те самые картинки, с помощью которых вы будете обучать нейронную сеть, представляют из себя матрицы чисел, где каждое число – это значение яркости пиксела (от **0** до **255**). Таких изображений в вашем тренировочном наборе данных **60000**, и их размер **28** на **28** пикселов. Поэтому форма массива данных выглядит так:"
      ]
    },
    {
      "cell_type": "code",
      "metadata": {
        "id": "ixb5KVPvdHT7",
        "colab": {
          "base_uri": "https://localhost:8080/"
        },
        "outputId": "b8049eed-fc07-4e96-bdb8-3f46cfa3fe42"
      },
      "source": [
        "# Вывод формы данных для обучения\n",
        "x_train_org.shape"
      ],
      "execution_count": null,
      "outputs": [
        {
          "output_type": "execute_result",
          "data": {
            "text/plain": [
              "(60000, 28, 28)"
            ]
          },
          "metadata": {},
          "execution_count": 119
        }
      ]
    },
    {
      "cell_type": "markdown",
      "metadata": {
        "id": "d6FaooGK7Epa"
      },
      "source": [
        "Убедитесь, что ваши данные действительно представляют собой картинки с числами.\n",
        "\n",
        "Для этого выберите из массива **x_train_org** какую-нибудь матрицу чисел и отобразите ее в серой шкале:"
      ]
    },
    {
      "cell_type": "code",
      "metadata": {
        "id": "ts-z0Oh_EJJ_",
        "colab": {
          "base_uri": "https://localhost:8080/",
          "height": 265
        },
        "outputId": "b00ce37d-5e31-44e0-bdd5-61118eaee38c"
      },
      "source": [
        "# Номер картинки\n",
        "n = 143\n",
        "\n",
        "# Отрисовка картинки\n",
        "plt.imshow(x_train_org[n], cmap='gray')\n",
        "\n",
        "# Вывод n-й картинки\n",
        "plt.show()"
      ],
      "execution_count": null,
      "outputs": [
        {
          "output_type": "display_data",
          "data": {
            "text/plain": [
              "<Figure size 432x288 with 1 Axes>"
            ],
            "image/png": "[encoded data removed]"
          },
          "metadata": {
            "needs_background": "light"
          }
        }
      ]
    },
    {
      "cell_type": "markdown",
      "metadata": {
        "id": "Dbkf_3xo9FL0"
      },
      "source": [
        "Видите изображение цифры **2**? \n",
        "\n",
        "Если же вы взглянете на массив **y_train_org**, который содержит в себе метки для картинок (то есть правильные значения распознаваемых цифр на картинках), то увидите, что этой картинке соответствует значение **2**:\n"
      ]
    },
    {
      "cell_type": "code",
      "metadata": {
        "id": "3D8FrTQMx8cs",
        "colab": {
          "base_uri": "https://localhost:8080/"
        },
        "outputId": "0e0f8fb6-d3f5-4422-f416-ef663e2ccb0a"
      },
      "source": [
        "# Вывод метки класса для n-го изображения\n",
        "print(y_train_org[n])"
      ],
      "execution_count": null,
      "outputs": [
        {
          "output_type": "stream",
          "name": "stdout",
          "text": [
            "2\n"
          ]
        }
      ]
    },
    {
      "cell_type": "code",
      "metadata": {
        "id": "StxOw0C6EQQd",
        "colab": {
          "base_uri": "https://localhost:8080/"
        },
        "outputId": "e3c038a1-bf8d-4fe9-d04e-7dfc381f24ca"
      },
      "source": [
        "# Изменение формы входных картинок с 28х28 на 784\n",
        "# первая ось остается без изменения, остальные складываются в вектор\n",
        "x_train = x_train_org.reshape(x_train_org.shape[0], -1)   \n",
        "x_test = x_test_org.reshape(x_test_org.shape[0], -1)   \n",
        "\n",
        "# Проверка результата\n",
        "print(f'Форма обучающих данных: {x_train_org.shape} -> {x_train.shape}')\n",
        "print(f'Форма  тестовых данных: {x_test_org.shape} -> {x_test.shape}')"
      ],
      "execution_count": null,
      "outputs": [
        {
          "output_type": "stream",
          "name": "stdout",
          "text": [
            "Форма обучающих данных: (60000, 28, 28) -> (60000, 784)\n",
            "Форма  тестовых данных: (10000, 28, 28) -> (10000, 784)\n"
          ]
        }
      ]
    },
    {
      "cell_type": "code",
      "metadata": {
        "id": "R5cW-u8eEXBN"
      },
      "source": [
        "# Нормализация входных картинок\n",
        "# Преобразование x_train в тип float32 (числа с плавающей точкой) и нормализация\n",
        "x_train = x_train.astype('float32') / 255.\n",
        "\n",
        "# Преобразование x_test в тип float32 (числа с плавающей точкой) и нормализация\n",
        "x_test = x_test.astype('float32') / 255."
      ],
      "execution_count": null,
      "outputs": []
    },
    {
      "cell_type": "markdown",
      "metadata": {
        "id": "Vnv-c-dwXLhy"
      },
      "source": [
        "Чтобы не указывать везде явно число классов, хорошим тоном будет назначить константу. Тогда, если вам захочется использовать удачную архитектуру модели на других данных с другим количеством классов, не придется менять это значение в каждом месте, где оно требуется:"
      ]
    },
    {
      "cell_type": "code",
      "metadata": {
        "id": "Sj3OcBlZMQbo"
      },
      "source": [
        "# Задание константы количества распознаваемых классов\n",
        "\n",
        "CLASS_COUNT = 10"
      ],
      "execution_count": null,
      "outputs": []
    },
    {
      "cell_type": "markdown",
      "metadata": {
        "id": "QWhdJfXSXs7Q"
      },
      "source": [
        "Преобразуйте выходные данные в векторы one hot encoding с помощью функции `to_categorical()` модуля **utils**:"
      ]
    },
    {
      "cell_type": "code",
      "metadata": {
        "id": "zrxFxFA5EsVU"
      },
      "source": [
        "# Преобразование ответов в формат one_hot_encoding\n",
        "y_train = utils.to_categorical(y_train_org, CLASS_COUNT)\n",
        "y_test = utils.to_categorical(y_test_org, CLASS_COUNT)"
      ],
      "execution_count": null,
      "outputs": []
    },
    {
      "cell_type": "markdown",
      "metadata": {
        "id": "mmkdSUiuDjrg"
      },
      "source": [
        "Теперь выходные данные для вашей нейронной сети выглядят следующим образом:"
      ]
    },
    {
      "cell_type": "code",
      "metadata": {
        "id": "7AiDf79FE2Xk",
        "colab": {
          "base_uri": "https://localhost:8080/"
        },
        "outputId": "0452ca9f-b9e6-4d96-a3a1-be666e02ddfd"
      },
      "source": [
        "# Вывод формы y_train\n",
        "# 60 тысяч примеров, каждый длины 10 по числу классов\n",
        "print(y_train.shape)"
      ],
      "execution_count": null,
      "outputs": [
        {
          "output_type": "stream",
          "name": "stdout",
          "text": [
            "(60000, 10)\n"
          ]
        }
      ]
    },
    {
      "cell_type": "code",
      "metadata": {
        "id": "i7MZ1HbBE7me",
        "colab": {
          "base_uri": "https://localhost:8080/"
        },
        "outputId": "4964a161-5c1a-43b2-a078-4ec6b9962f91"
      },
      "source": [
        "# Вывод примера одного выходного вектора\n",
        "print(y_train[0]) "
      ],
      "execution_count": null,
      "outputs": [
        {
          "output_type": "stream",
          "name": "stdout",
          "text": [
            "[0. 0. 0. 0. 0. 1. 0. 0. 0. 0.]\n"
          ]
        }
      ]
    },
    {
      "cell_type": "markdown",
      "metadata": {
        "id": "7u4EFl16Ms1T"
      },
      "source": [
        "Для сравнения - в оригинальных выходных данных все метки классов - просто одиночные числа:"
      ]
    },
    {
      "cell_type": "code",
      "metadata": {
        "id": "LyIjTL5BNxus",
        "colab": {
          "base_uri": "https://localhost:8080/"
        },
        "outputId": "d31a7354-02fc-4504-86c7-db3de6f53bee"
      },
      "source": [
        "# Вывод формы массива меток\n",
        "print(y_train_org.shape)"
      ],
      "execution_count": null,
      "outputs": [
        {
          "output_type": "stream",
          "name": "stdout",
          "text": [
            "(60000,)\n"
          ]
        }
      ]
    },
    {
      "cell_type": "code",
      "metadata": {
        "id": "L6kqzxeiN0IK",
        "colab": {
          "base_uri": "https://localhost:8080/"
        },
        "outputId": "500761b3-2e37-4abc-9f8c-0c501ed5d5b3"
      },
      "source": [
        "# Вывод метки, соответствующей 36-му элементу\n",
        "print(y_train_org[36])"
      ],
      "execution_count": null,
      "outputs": [
        {
          "output_type": "stream",
          "name": "stdout",
          "text": [
            "6\n"
          ]
        }
      ]
    },
    {
      "cell_type": "code",
      "metadata": {
        "id": "odi8yVyxE-w5"
      },
      "source": [
        "# Создание последовательной модели\n",
        "model = Sequential()\n",
        "\n",
        "# Добавление полносвязного слоя на 800 нейронов с relu-активацией\n",
        "model.add(Dense(800, input_dim=784, activation='relu')) \n",
        "\n",
        "# Добавление полносвязного слоя на 400 нейронов с relu-активацией\n",
        "model.add(Dense(400, activation='relu')) \n",
        "\n",
        "# Добавление полносвязного слоя с количеством нейронов по числу классов с softmax-активацией\n",
        "model.add(Dense(CLASS_COUNT, activation='softmax')) "
      ],
      "execution_count": null,
      "outputs": []
    },
    {
      "cell_type": "markdown",
      "metadata": {
        "id": "SCDx-ZER1Nfw"
      },
      "source": [
        "Метод `.summary()` выведет на экран структуру вашей нейронной сети в виде таблицы:"
      ]
    },
    {
      "cell_type": "code",
      "metadata": {
        "id": "6EMUkxTqFkc1"
      },
      "source": [
        "# Компиляция модели\n",
        "model.compile(loss='categorical_crossentropy', optimizer='adam', metrics=['accuracy'])\n",
        "\n",
        "# Вывод структуры модели\n",
        "print(model.summary())"
      ],
      "execution_count": null,
      "outputs": []
    },
    {
      "cell_type": "code",
      "metadata": {
        "colab": {
          "base_uri": "https://localhost:8080/",
          "height": 422
        },
        "id": "37NcuApHNe0D",
        "outputId": "6bf6fa16-8eeb-4a6a-d7ac-b98f46fb8562"
      },
      "source": [
        "utils.plot_model(model, to_file='model_plot.png', show_shapes=True, show_layer_names=False)"
      ],
      "execution_count": null,
      "outputs": [
        {
          "output_type": "execute_result",
          "data": {
            "image/png": "[encoded data removed]",
            "text/plain": [
              "<IPython.core.display.Image object>"
            ]
          },
          "metadata": {},
          "execution_count": 132
        }
      ]
    },
    {
      "cell_type": "code",
      "metadata": {
        "id": "tzArU3n3F6Lo",
        "colab": {
          "base_uri": "https://localhost:8080/"
        },
        "outputId": "f312d984-e6f9-4e2a-ffc5-85c423f89da2"
      },
      "source": [
        "model.fit(x_train,        # обучающая выборка, входные данные\n",
        "          y_train,        # обучающая выборка, выходные данные\n",
        "          batch_size=128, # кол-во примеров, которое обрабатывает нейронка перед одним изменением весов\n",
        "          epochs=15,      # количество эпох, когда нейронка обучается на всех примерах выборки\n",
        "          verbose=1)      # 0 - не визуализировать ход обучения, 1 - визуализировать"
      ],
      "execution_count": null,
      "outputs": [
        {
          "output_type": "stream",
          "name": "stdout",
          "text": [
            "Epoch 1/15\n",
            "469/469 [==============================] - 2s 3ms/step - loss: 0.2098 - accuracy: 0.9372\n",
            "Epoch 2/15\n",
            "469/469 [==============================] - 1s 3ms/step - loss: 0.0749 - accuracy: 0.9766\n",
            "Epoch 3/15\n",
            "469/469 [==============================] - 1s 3ms/step - loss: 0.0494 - accuracy: 0.9846\n",
            "Epoch 4/15\n",
            "469/469 [==============================] - 1s 3ms/step - loss: 0.0333 - accuracy: 0.9888\n",
            "Epoch 5/15\n",
            "469/469 [==============================] - 1s 3ms/step - loss: 0.0235 - accuracy: 0.9923\n",
            "Epoch 6/15\n",
            "469/469 [==============================] - 2s 3ms/step - loss: 0.0238 - accuracy: 0.9922\n",
            "Epoch 7/15\n",
            "469/469 [==============================] - 1s 3ms/step - loss: 0.0180 - accuracy: 0.9941\n",
            "Epoch 8/15\n",
            "469/469 [==============================] - 1s 3ms/step - loss: 0.0127 - accuracy: 0.9959\n",
            "Epoch 9/15\n",
            "469/469 [==============================] - 1s 3ms/step - loss: 0.0181 - accuracy: 0.9941\n",
            "Epoch 10/15\n",
            "469/469 [==============================] - 1s 3ms/step - loss: 0.0120 - accuracy: 0.9959\n",
            "Epoch 11/15\n",
            "469/469 [==============================] - 2s 3ms/step - loss: 0.0105 - accuracy: 0.9967\n",
            "Epoch 12/15\n",
            "469/469 [==============================] - 1s 3ms/step - loss: 0.0125 - accuracy: 0.9962\n",
            "Epoch 13/15\n",
            "469/469 [==============================] - 1s 3ms/step - loss: 0.0095 - accuracy: 0.9966\n",
            "Epoch 14/15\n",
            "469/469 [==============================] - 1s 3ms/step - loss: 0.0084 - accuracy: 0.9971\n",
            "Epoch 15/15\n",
            "469/469 [==============================] - 1s 3ms/step - loss: 0.0105 - accuracy: 0.9963\n"
          ]
        },
        {
          "output_type": "execute_result",
          "data": {
            "text/plain": [
              "<keras.callbacks.History at 0x7f78ac2c87f0>"
            ]
          },
          "metadata": {},
          "execution_count": 133
        }
      ]
    },
    {
      "cell_type": "markdown",
      "metadata": {
        "id": "tEkw1UT8PMJz"
      },
      "source": [
        "Только что вы наблюдали процесс обучения нейронной сети на 15 эпохах. После каждого цикла обучения вы можете видеть среднее значение ошибки. Обратите внимание, что практически каждую эпоху значение метрики точности (**accuracy**) увеличивается. Это означает, что ваша нейронная сеть с каждым разом делает все более точное распознавание!\n",
        "\n",
        "Теперь сохраните веса вашей модели, чтобы потом можно было снова их использовать:\n"
      ]
    },
    {
      "cell_type": "code",
      "metadata": {
        "id": "nmxH0W_QSOIX"
      },
      "source": [
        "model.save_weights('model.h5')\n",
        "model.load_weights('model.h5')"
      ],
      "execution_count": null,
      "outputs": []
    },
    {
      "cell_type": "markdown",
      "metadata": {
        "id": "h0h2T-M21m0l"
      },
      "source": [
        "Метод `.save_weights()` сохранит веса вашей модели в хранилище, а метод `.load_weights()` загрузит их обратно.\n"
      ]
    },
    {
      "cell_type": "markdown",
      "metadata": {
        "id": "ExUOoWQOGvw6"
      },
      "source": [
        "## Распознавание рукописных цифр"
      ]
    },
    {
      "cell_type": "markdown",
      "metadata": {
        "id": "XRe5XORb12KC"
      },
      "source": [
        "Ура! Вы научили нейронную сеть распознавать цифры на картинках с огромной точностью – более **99**%.\n",
        "\n",
        "Теперь вы можете использовать модель по прямому назначению. Выведите на экран какой-нибудь образец из тестового набора данных:\n"
      ]
    },
    {
      "cell_type": "code",
      "metadata": {
        "id": "ydE7Bb-5G82-",
        "colab": {
          "base_uri": "https://localhost:8080/",
          "height": 265
        },
        "outputId": "df7de50b-5add-46a8-ca19-8cdeebd7b2df"
      },
      "source": [
        "# Номер тестовой цифры, которую будем распознавать\n",
        "n_rec = np.random.randint(x_test_org.shape[0])\n",
        "\n",
        "# Отображение картинки из тестового набора под номером n_rec\n",
        "plt.imshow(x_test_org[n_rec], cmap='gray')\n",
        "plt.show()"
      ],
      "execution_count": null,
      "outputs": [
        {
          "output_type": "display_data",
          "data": {
            "text/plain": [
              "<Figure size 432x288 with 1 Axes>"
            ],
            "image/png": "[encoded data removed]"
          },
          "metadata": {
            "needs_background": "light"
          }
        }
      ]
    },
    {
      "cell_type": "markdown",
      "metadata": {
        "id": "f6fqhME64Sf7"
      },
      "source": [
        "Теперь сохраните в переменную **x** эту картинку в виде набора из **784** чисел. \n",
        "\n",
        "Это нужно для того, чтобы нейросеть сделала ***предсказание***, ведь она обучалась работать именно с такими последовательностями чисел:\n"
      ]
    },
    {
      "cell_type": "code",
      "metadata": {
        "id": "_85gvY6uHABc",
        "colab": {
          "base_uri": "https://localhost:8080/"
        },
        "outputId": "d57bdcf7-f80b-4ed9-cd21-efee95c02f2f"
      },
      "source": [
        "# Выбор нужной картинки из тестовой выборки\n",
        "x = x_test[n_rec]\n",
        "\n",
        "# Проверка формы данных\n",
        "print(x.shape)"
      ],
      "execution_count": null,
      "outputs": [
        {
          "output_type": "stream",
          "name": "stdout",
          "text": [
            "(784,)\n"
          ]
        }
      ]
    },
    {
      "cell_type": "code",
      "metadata": {
        "id": "IljyFhj0HPPC",
        "colab": {
          "base_uri": "https://localhost:8080/"
        },
        "outputId": "445d285c-f86f-453b-a7b4-a5677239e68b"
      },
      "source": [
        "# Добавление одной оси в начале, чтобы нейронка могла распознать пример\n",
        "# Массив из одного примера, так как нейронка принимает именно массивы примеров (батчи) для распознавания\n",
        "x = np.expand_dims(x, axis=0)\n",
        "\n",
        "# Проверка формы данных\n",
        "print(x.shape)"
      ],
      "execution_count": null,
      "outputs": [
        {
          "output_type": "stream",
          "name": "stdout",
          "text": [
            "(1, 784)\n"
          ]
        }
      ]
    },
    {
      "cell_type": "markdown",
      "metadata": {
        "id": "l9nE0l5L483D"
      },
      "source": [
        "Чтобы ваша сеть сделала предсказание, нужно вызвать метод `.predict()` и передать в него данные для распознавания:\n"
      ]
    },
    {
      "cell_type": "code",
      "source": [
        "len(x)"
      ],
      "metadata": {
        "id": "9sgdx2sJFit6",
        "outputId": "42d99289-ae20-4e72-fdae-e1afb9b65028",
        "colab": {
          "base_uri": "https://localhost:8080/"
        }
      },
      "execution_count": null,
      "outputs": [
        {
          "output_type": "execute_result",
          "data": {
            "text/plain": [
              "1"
            ]
          },
          "metadata": {},
          "execution_count": 139
        }
      ]
    },
    {
      "cell_type": "code",
      "metadata": {
        "id": "VigT6aeAHQ91",
        "outputId": "9f08dc6a-b87b-4632-a7f1-ae3897cb0907",
        "colab": {
          "base_uri": "https://localhost:8080/"
        }
      },
      "source": [
        "# Распознавание примера\n",
        "prediction = model.predict(x) "
      ],
      "execution_count": null,
      "outputs": [
        {
          "output_type": "stream",
          "name": "stdout",
          "text": [
            "1/1 [==============================] - 0s 14ms/step\n"
          ]
        }
      ]
    },
    {
      "cell_type": "markdown",
      "metadata": {
        "id": "GoD4R1fw6YZ8"
      },
      "source": [
        "Ответом вашей нейронной сети будет такой массив чисел:\n"
      ]
    },
    {
      "cell_type": "code",
      "metadata": {
        "id": "fGF9xUCRHSOE",
        "colab": {
          "base_uri": "https://localhost:8080/"
        },
        "outputId": "85e4d6a2-54d3-4ba7-e6d4-f21e8c49880c"
      },
      "source": [
        "# Вывод результата - вектор из 10 чисел\n",
        "print(prediction)"
      ],
      "execution_count": null,
      "outputs": [
        {
          "output_type": "stream",
          "name": "stdout",
          "text": [
            "[[2.2208978e-08 9.9999917e-01 1.4398588e-11 2.2192102e-10 3.5798433e-08\n",
            "  4.8690475e-11 3.2786902e-11 5.2759801e-09 7.9817926e-07 3.5803605e-09]]\n"
          ]
        }
      ]
    },
    {
      "cell_type": "markdown",
      "metadata": {
        "id": "4GTjsZ2s6x0B"
      },
      "source": [
        "Эти числа характеризуют вероятности принадлежности к конкретному классу. Самое первое число в этой последовательности отвечает на вопрос, какова вероятность, что на картинке изображена цифра **0**. Второе число говорит то же самое про цифру **1**. Сумма всех вероятностей равна единице, то есть предполагатся полный набор событий (только цифры от **0** до **9** и ничего другого):"
      ]
    },
    {
      "cell_type": "code",
      "metadata": {
        "id": "LKR0oFGAYyFi",
        "colab": {
          "base_uri": "https://localhost:8080/"
        },
        "outputId": "81da6c60-cecd-4b97-f275-aa98c515412f"
      },
      "source": [
        "sum(prediction[0])"
      ],
      "execution_count": null,
      "outputs": [
        {
          "output_type": "execute_result",
          "data": {
            "text/plain": [
              "1.0000000308957788"
            ]
          },
          "metadata": {},
          "execution_count": 142
        }
      ]
    },
    {
      "cell_type": "markdown",
      "metadata": {
        "id": "Jk-eIuw0RSvN"
      },
      "source": [
        "Таким образом, индекс самой большой вероятности в этом списке чисел и будет ответом вашей нейронной сети:"
      ]
    },
    {
      "cell_type": "code",
      "metadata": {
        "id": "9pg67PW9HV4A",
        "colab": {
          "base_uri": "https://localhost:8080/"
        },
        "outputId": "761a10a7-148b-4520-c0ab-b36873384074"
      },
      "source": [
        "# Получение и вывод индекса самого большого элемента (это значение цифры, которую распознала сеть)\n",
        "pred = np.argmax(prediction)\n",
        "print(f'Распознана цифра: {pred}')"
      ],
      "execution_count": null,
      "outputs": [
        {
          "output_type": "stream",
          "name": "stdout",
          "text": [
            "Распознана цифра: 1\n"
          ]
        }
      ]
    },
    {
      "cell_type": "markdown",
      "metadata": {
        "id": "v3tYZT8U7Sk7"
      },
      "source": [
        "Как видите, ваша сеть находит правильный ответ для картинки с изображением цифры 6."
      ]
    },
    {
      "cell_type": "code",
      "source": [
        "import keras.utils as image"
      ],
      "metadata": {
        "id": "C-WRaS0Ryje9"
      },
      "execution_count": null,
      "outputs": []
    },
    {
      "cell_type": "code",
      "source": [
        "from pathlib import Path\n",
        "Path.cwd()"
      ],
      "metadata": {
        "id": "YtQ5j4Cty-RA",
        "outputId": "a24b157b-b3ea-4978-ebc6-72e79d212fb9",
        "colab": {
          "base_uri": "https://localhost:8080/"
        }
      },
      "execution_count": null,
      "outputs": [
        {
          "output_type": "execute_result",
          "data": {
            "text/plain": [
              "PosixPath('/content')"
            ]
          },
          "metadata": {},
          "execution_count": 145
        }
      ]
    },
    {
      "cell_type": "code",
      "source": [
        "img = image.load_img('/Number_2.jpg', target_size=(28, 28))\n",
        "img"
      ],
      "metadata": {
        "id": "9nhsqvwhxG7V",
        "outputId": "5773661a-c3b6-4a3c-93b0-3949d9800072",
        "colab": {
          "base_uri": "https://localhost:8080/",
          "height": 45
        }
      },
      "execution_count": null,
      "outputs": [
        {
          "output_type": "execute_result",
          "data": {
            "text/plain": [
              "<PIL.Image.Image image mode=RGB size=28x28 at 0x7F78AC14B190>"
            ],
            "image/png": "[encoded data removed]"
          },
          "metadata": {},
          "execution_count": 151
        }
      ]
    },
    {
      "cell_type": "code",
      "source": [
        "from PIL import Image, ImageOps\n",
        "# Load the image\n",
        "#image = Image.open(\"input_image.png\")\n",
        "\n",
        "# Convert the image to grayscale\n",
        "grayscale_image = img.convert(\"L\")\n",
        "\n",
        "# Save the grayscale image\n",
        "grayscale_image.save(\"grayscale_image.png\")\n",
        "\n",
        "grayscale_image"
      ],
      "metadata": {
        "id": "LkqmGoYk1wqF",
        "outputId": "55005a4b-1ddf-4d61-fbbb-00ea08cb3737",
        "colab": {
          "base_uri": "https://localhost:8080/",
          "height": 45
        }
      },
      "execution_count": null,
      "outputs": [
        {
          "output_type": "execute_result",
          "data": {
            "text/plain": [
              "<PIL.Image.Image image mode=L size=28x28 at 0x7F78AC14B310>"
            ],
            "image/png": "[encoded data removed]"
          },
          "metadata": {},
          "execution_count": 152
        }
      ]
    },
    {
      "cell_type": "code",
      "source": [
        "inverted_image = ImageOps.invert(grayscale_image)\n",
        "inverted_image"
      ],
      "metadata": {
        "id": "OdVdhCxz5pww",
        "outputId": "82046ca8-fc1e-4993-89a3-ac1dcd4aac70",
        "colab": {
          "base_uri": "https://localhost:8080/",
          "height": 45
        }
      },
      "execution_count": null,
      "outputs": [
        {
          "output_type": "execute_result",
          "data": {
            "text/plain": [
              "<PIL.Image.Image image mode=L size=28x28 at 0x7F78AC313FA0>"
            ],
            "image/png": "[encoded data removed]"
          },
          "metadata": {},
          "execution_count": 153
        }
      ]
    },
    {
      "cell_type": "code",
      "source": [
        "inverted_image_ar = image.img_to_array(img) "
      ],
      "metadata": {
        "id": "pCSl7ROj6pYO"
      },
      "execution_count": null,
      "outputs": []
    },
    {
      "cell_type": "code",
      "source": [
        "inverted_image_ar.shape"
      ],
      "metadata": {
        "id": "4JCfOWVq9eOu",
        "outputId": "a4d842f4-025e-492b-f345-06ccffbed355",
        "colab": {
          "base_uri": "https://localhost:8080/"
        }
      },
      "execution_count": null,
      "outputs": [
        {
          "output_type": "execute_result",
          "data": {
            "text/plain": [
              "(28, 28, 3)"
            ]
          },
          "metadata": {},
          "execution_count": 161
        }
      ]
    },
    {
      "cell_type": "code",
      "source": [
        "image_2d = inverted_image_ar[:, :, 0]"
      ],
      "metadata": {
        "id": "m_TEQNPHD-w-"
      },
      "execution_count": null,
      "outputs": []
    },
    {
      "cell_type": "code",
      "source": [
        "image_1d = image_2d.reshape(784,)"
      ],
      "metadata": {
        "id": "rzyidxsVIwcl"
      },
      "execution_count": null,
      "outputs": []
    },
    {
      "cell_type": "code",
      "source": [
        "image_1d.shape"
      ],
      "metadata": {
        "id": "Dv5Mmg1eHhH4",
        "outputId": "e6b26541-8e9b-4d17-dc00-29d3295f8814",
        "colab": {
          "base_uri": "https://localhost:8080/"
        }
      },
      "execution_count": null,
      "outputs": [
        {
          "output_type": "execute_result",
          "data": {
            "text/plain": [
              "(784,)"
            ]
          },
          "metadata": {},
          "execution_count": 165
        }
      ]
    },
    {
      "cell_type": "code",
      "source": [
        "# Добавление одной оси в начале, чтобы нейронка могла распознать пример\n",
        "# Массив из одного примера, так как нейронка принимает именно массивы примеров (батчи) для распознавания\n",
        "image_1d_for_test = np.expand_dims(image_1d, axis=0)\n",
        "\n",
        "# Проверка формы данных\n",
        "print(image_1d_for_test.shape)"
      ],
      "metadata": {
        "id": "YQJ5LwsqILWW",
        "outputId": "78fb4410-4612-4a10-f9e7-5dd4b228ce5f",
        "colab": {
          "base_uri": "https://localhost:8080/"
        }
      },
      "execution_count": null,
      "outputs": [
        {
          "output_type": "stream",
          "name": "stdout",
          "text": [
            "(1, 784)\n"
          ]
        }
      ]
    },
    {
      "cell_type": "code",
      "source": [
        "prediction = model.predict(image_1d_for_test)\n",
        "print(prediction)\n",
        "pred = np.argmax(prediction)\n",
        "print(f'Распознана цифра: {pred}')"
      ],
      "metadata": {
        "id": "nKrl6SfXAFZX",
        "outputId": "df46606d-0da0-4f31-9cf6-bbebbc8eeda8",
        "colab": {
          "base_uri": "https://localhost:8080/"
        }
      },
      "execution_count": null,
      "outputs": [
        {
          "output_type": "stream",
          "name": "stdout",
          "text": [
            "1/1 [==============================] - 0s 15ms/step\n",
            "[[0. 0. 0. 0. 0. 1. 0. 0. 0. 0.]]\n",
            "Распознана цифра: 5\n"
          ]
        }
      ]
    }
  ]
}
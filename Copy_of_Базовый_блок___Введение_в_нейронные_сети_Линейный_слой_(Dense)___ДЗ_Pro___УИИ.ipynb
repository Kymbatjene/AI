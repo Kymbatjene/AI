{
  "nbformat": 4,
  "nbformat_minor": 0,
  "metadata": {
    "colab": {
      "provenance": []
    },
    "kernelspec": {
      "name": "python3",
      "display_name": "Python 3"
    },
    "language_info": {
      "name": "python"
    },
    "accelerator": "GPU"
  },
  "cells": [
    {
      "cell_type": "markdown",
      "metadata": {
        "id": "d_qXycKuUA51"
      },
      "source": [
        "### Задание"
      ]
    },
    {
      "cell_type": "markdown",
      "metadata": {
        "id": "aUMmCXubUHEb"
      },
      "source": [
        "Самостоятельно напишите нейронную сеть, которая может стать составной частью системы бота для игры в \"Крестики-нолики\". Используя подготовленную базу изображений, создайте и обучите нейронную сеть, распознающую две категории изображений: крестики и нолики. Добейтесь точности распознавания более 95% (accuracy)\n"
      ]
    },
    {
      "cell_type": "code",
      "metadata": {
        "id": "LvOL2h3EdC9y"
      },
      "source": [
        "# Подключение класса для создания нейронной сети прямого распространения\n",
        "from tensorflow.keras.models import Sequential \n",
        "# Подключение класса для создания полносвязного слоя\n",
        "from tensorflow.keras.layers import Dense \n",
        "# Подключение оптимизатора\n",
        "from tensorflow.keras.optimizers import Adam \n",
        "# Подключение утилит для to_categorical\n",
        "from tensorflow.keras import utils \n",
        "# Подключение библиотеки для загрузки изображений\n",
        "from tensorflow.keras.preprocessing import image \n",
        "# Подключение библиотеки для работы с массивами\n",
        "import numpy as np\n",
        "# Подключение модуля для работы с файлами\n",
        "import os\n",
        "# Подключение библиотек для отрисовки изображений\n",
        "import matplotlib.pyplot as plt \n",
        "from PIL import Image \n",
        "# Вывод изображения в ноутбуке, а не в консоли или файле\n",
        "%matplotlib inline "
      ],
      "execution_count": null,
      "outputs": []
    },
    {
      "cell_type": "code",
      "metadata": {
        "colab": {
          "base_uri": "https://localhost:8080/",
          "height": 36
        },
        "id": "lJSH41rM12IE",
        "outputId": "85dbccd9-ebc4-47e5-b68e-988189473208"
      },
      "source": [
        "# Загрузка датасета из облака\n",
        "import gdown\n",
        "gdown.download('https://storage.yandexcloud.net/aiueducation/Content/base/l3/hw_pro.zip', None, quiet=True)"
      ],
      "execution_count": null,
      "outputs": [
        {
          "output_type": "execute_result",
          "data": {
            "text/plain": [
              "'hw_pro.zip'"
            ],
            "application/vnd.google.colaboratory.intrinsic+json": {
              "type": "string"
            }
          },
          "metadata": {},
          "execution_count": 52
        }
      ]
    },
    {
      "cell_type": "code",
      "source": [
        "a"
      ],
      "metadata": {
        "id": "QbHgzYjrh_87"
      },
      "execution_count": null,
      "outputs": []
    },
    {
      "cell_type": "code",
      "metadata": {
        "id": "5HAhCsCJ1_hJ",
        "outputId": "49d7a616-3d67-4367-dedb-ed8cf939b1d5",
        "colab": {
          "base_uri": "https://localhost:8080/"
        }
      },
      "source": [
        "# Распаковываем архив hw_light.zip в папку hw_light\n",
        "!unzip -q hw_pro.zip"
      ],
      "execution_count": null,
      "outputs": [
        {
          "output_type": "stream",
          "name": "stdout",
          "text": [
            "replace hw_pro/0/1.jpg? [y]es, [n]o, [A]ll, [N]one, [r]ename: y\n",
            "replace hw_pro/0/10.jpg? [y]es, [n]o, [A]ll, [N]one, [r]ename: y\n",
            "replace hw_pro/0/11.jpg? [y]es, [n]o, [A]ll, [N]one, [r]ename: y\n",
            "replace hw_pro/0/12.jpg? [y]es, [n]o, [A]ll, [N]one, [r]ename: y\n",
            "replace hw_pro/0/13.jpg? [y]es, [n]o, [A]ll, [N]one, [r]ename: y\n",
            "replace hw_pro/0/14.jpg? [y]es, [n]o, [A]ll, [N]one, [r]ename: y\n",
            "replace hw_pro/0/15.jpg? [y]es, [n]o, [A]ll, [N]one, [r]ename: y\n",
            "replace hw_pro/0/16.jpg? [y]es, [n]o, [A]ll, [N]one, [r]ename: y\n",
            "replace hw_pro/0/17.jpg? [y]es, [n]o, [A]ll, [N]one, [r]ename: y\n",
            "replace hw_pro/0/18.jpg? [y]es, [n]o, [A]ll, [N]one, [r]ename: y\n",
            "replace hw_pro/0/19.jpg? [y]es, [n]o, [A]ll, [N]one, [r]ename: y\n",
            "replace hw_pro/0/2.jpg? [y]es, [n]o, [A]ll, [N]one, [r]ename: a\n",
            "error:  invalid response [a]\n",
            "replace hw_pro/0/2.jpg? [y]es, [n]o, [A]ll, [N]one, [r]ename: A\n"
          ]
        }
      ]
    },
    {
      "cell_type": "code",
      "metadata": {
        "colab": {
          "base_uri": "https://localhost:8080/"
        },
        "id": "HhHbCet01zmG",
        "outputId": "93b47864-1f50-4640-8c4d-74c1cb12a2a2"
      },
      "source": [
        "# Путь к директории с базой\n",
        "base_dir = '/content/hw_pro'\n",
        "# Создание пустого списка для загрузки изображений обучающей выборки\n",
        "x_train = []\n",
        "# Создание списка для меток классов\n",
        "y_train = []\n",
        "# Задание высоты и ширины загружаемых изображений\n",
        "img_height = 20\n",
        "img_width = 20\n",
        "# Перебор папок в директории базы\n",
        "for patch in os.listdir(base_dir):\n",
        "    # Перебор файлов в папках\n",
        "    for img in os.listdir(base_dir + '/' + patch):\n",
        "        # Добавление в список изображений текущей картинки\n",
        "        x_train.append(image.img_to_array(image.load_img(base_dir + '/' + patch + '/' + img,\n",
        "                                                         target_size=(img_height, img_width),\n",
        "                                                         color_mode='grayscale')))\n",
        "        # Добавление в массив меток, соответствующих классам\n",
        "        if patch == '0':\n",
        "            y_train.append(0)\n",
        "        else:\n",
        "            y_train.append(1)\n",
        "# Преобразование в numpy-массив загруженных изображений и меток классов\n",
        "x_train = np.array(x_train)\n",
        "y_train = np.array(y_train)\n",
        "# Вывод размерностей\n",
        "print('Размер массива x_train', x_train.shape)\n",
        "print('Размер массива y_train', y_train.shape)"
      ],
      "execution_count": null,
      "outputs": [
        {
          "output_type": "stream",
          "name": "stdout",
          "text": [
            "Размер массива x_train (102, 20, 20, 1)\n",
            "Размер массива y_train (102,)\n"
          ]
        }
      ]
    },
    {
      "cell_type": "code",
      "source": [
        "y_train[62]"
      ],
      "metadata": {
        "id": "_ozlt16HoYy8",
        "outputId": "395eacd2-c1ac-4719-c574-cbb60b65fe75",
        "colab": {
          "base_uri": "https://localhost:8080/"
        }
      },
      "execution_count": null,
      "outputs": [
        {
          "output_type": "execute_result",
          "data": {
            "text/plain": [
              "0"
            ]
          },
          "metadata": {},
          "execution_count": 126
        }
      ]
    },
    {
      "cell_type": "code",
      "metadata": {
        "id": "TJLh3F3N2DCD"
      },
      "source": [
        "x_train_mod = x_train.reshape(102, 20, 20)"
      ],
      "execution_count": null,
      "outputs": []
    },
    {
      "cell_type": "code",
      "source": [
        "# Номер картинки\n",
        "n = 98\n",
        "\n",
        "# Отрисовка картинки\n",
        "plt.imshow(x_train_mod[17])\n",
        "\n",
        "# Вывод n-й картинки\n",
        "plt.show()"
      ],
      "metadata": {
        "id": "DMgUVkIBgFza",
        "outputId": "2418c17f-6e37-412c-a895-98034e1b123f",
        "colab": {
          "base_uri": "https://localhost:8080/",
          "height": 265
        }
      },
      "execution_count": null,
      "outputs": [
        {
          "output_type": "display_data",
          "data": {
            "text/plain": [
              "<Figure size 432x288 with 1 Axes>"
            ],
            "image/png": "[encoded data removed]"
          },
          "metadata": {
            "needs_background": "light"
          }
        }
      ]
    },
    {
      "cell_type": "code",
      "source": [
        "x_train_mod_one = x_train_mod.reshape(x_train_mod.shape[0], -1)\n",
        "x_train_mod_one.shape"
      ],
      "metadata": {
        "id": "FYstko72iII6",
        "outputId": "66a54621-fdb5-4539-bced-4d9d32f1518d",
        "colab": {
          "base_uri": "https://localhost:8080/"
        }
      },
      "execution_count": null,
      "outputs": [
        {
          "output_type": "execute_result",
          "data": {
            "text/plain": [
              "(102, 400)"
            ]
          },
          "metadata": {},
          "execution_count": 58
        }
      ]
    },
    {
      "cell_type": "code",
      "source": [
        "x_train_mod_one = x_train_mod_one.astype('float32') / 255\n",
        "x_train_mod_one"
      ],
      "metadata": {
        "id": "zdx5amxEgJqS",
        "outputId": "ad574326-0a87-44cf-fca6-7d0b6f432e4a",
        "colab": {
          "base_uri": "https://localhost:8080/"
        }
      },
      "execution_count": null,
      "outputs": [
        {
          "output_type": "execute_result",
          "data": {
            "text/plain": [
              "array([[0.9882353 , 1.        , 0.99607843, ..., 0.9882353 , 1.        ,\n",
              "        1.        ],\n",
              "       [1.        , 0.99607843, 0.99607843, ..., 1.        , 0.99607843,\n",
              "        1.        ],\n",
              "       [1.        , 1.        , 1.        , ..., 1.        , 1.        ,\n",
              "        1.        ],\n",
              "       ...,\n",
              "       [1.        , 1.        , 1.        , ..., 1.        , 1.        ,\n",
              "        1.        ],\n",
              "       [0.99607843, 1.        , 0.99607843, ..., 1.        , 1.        ,\n",
              "        1.        ],\n",
              "       [1.        , 1.        , 0.9882353 , ..., 1.        , 1.        ,\n",
              "        1.        ]], dtype=float32)"
            ]
          },
          "metadata": {},
          "execution_count": 59
        }
      ]
    },
    {
      "cell_type": "code",
      "source": [
        "CLASS_COUNT = 2\n",
        "y_train_mod = utils.to_categorical(y_train, CLASS_COUNT)"
      ],
      "metadata": {
        "id": "4ARip2PwgOmL"
      },
      "execution_count": null,
      "outputs": []
    },
    {
      "cell_type": "code",
      "source": [
        "print(y_train_mod.shape)"
      ],
      "metadata": {
        "id": "aG-TEs50jFxs",
        "outputId": "12d1619e-0d44-405c-fede-85f4db3839ae",
        "colab": {
          "base_uri": "https://localhost:8080/"
        }
      },
      "execution_count": null,
      "outputs": [
        {
          "output_type": "stream",
          "name": "stdout",
          "text": [
            "(102, 2)\n"
          ]
        }
      ]
    },
    {
      "cell_type": "code",
      "source": [
        "y_train_mod[0]"
      ],
      "metadata": {
        "id": "vROytwuHouwp",
        "outputId": "8729a421-1271-4909-983c-8757f3213bb5",
        "colab": {
          "base_uri": "https://localhost:8080/"
        }
      },
      "execution_count": null,
      "outputs": [
        {
          "output_type": "execute_result",
          "data": {
            "text/plain": [
              "array([0., 1.], dtype=float32)"
            ]
          },
          "metadata": {},
          "execution_count": 128
        }
      ]
    },
    {
      "cell_type": "code",
      "source": [
        "# Создание последовательной модели\n",
        "model = Sequential()\n",
        "\n",
        "# Добавление полносвязного слоя на 800 нейронов с relu-активацией\n",
        "model.add(Dense(800, input_dim=400, activation='relu')) \n",
        "\n",
        "# Добавление полносвязного слоя на 400 нейронов с relu-активацией\n",
        "model.add(Dense(200, activation='relu')) \n",
        "\n",
        "# Добавление полносвязного слоя с количеством нейронов по числу классов с softmax-активацией\n",
        "model.add(Dense(CLASS_COUNT, activation='softmax')) "
      ],
      "metadata": {
        "id": "Be5tSd4njj50"
      },
      "execution_count": null,
      "outputs": []
    },
    {
      "cell_type": "code",
      "source": [
        "# Компиляция модели\n",
        "model.compile(loss='categorical_crossentropy', optimizer='adam', metrics=['accuracy'])\n",
        "\n",
        "# Вывод структуры модели\n",
        "print(model.summary())"
      ],
      "metadata": {
        "id": "oRxMf2iRjspj",
        "outputId": "612d684b-7100-4112-bfed-fbbedd769263",
        "colab": {
          "base_uri": "https://localhost:8080/"
        }
      },
      "execution_count": null,
      "outputs": [
        {
          "output_type": "stream",
          "name": "stdout",
          "text": [
            "Model: \"sequential_3\"\n",
            "_________________________________________________________________\n",
            " Layer (type)                Output Shape              Param #   \n",
            "=================================================================\n",
            " dense_9 (Dense)             (None, 800)               320800    \n",
            "                                                                 \n",
            " dense_10 (Dense)            (None, 200)               160200    \n",
            "                                                                 \n",
            " dense_11 (Dense)            (None, 2)                 402       \n",
            "                                                                 \n",
            "=================================================================\n",
            "Total params: 481,402\n",
            "Trainable params: 481,402\n",
            "Non-trainable params: 0\n",
            "_________________________________________________________________\n",
            "None\n"
          ]
        }
      ]
    },
    {
      "cell_type": "code",
      "source": [
        "utils.plot_model(model, to_file='model_plot.png', show_shapes=True, show_layer_names=False)"
      ],
      "metadata": {
        "id": "qhIhsgEYkF4a",
        "outputId": "db9261a3-df24-4060-f0f7-bb23eef46d23",
        "colab": {
          "base_uri": "https://localhost:8080/",
          "height": 422
        }
      },
      "execution_count": null,
      "outputs": [
        {
          "output_type": "execute_result",
          "data": {
            "image/png": "[encoded data removed]",
            "text/plain": [
              "<IPython.core.display.Image object>"
            ]
          },
          "metadata": {},
          "execution_count": 105
        }
      ]
    },
    {
      "cell_type": "code",
      "source": [
        "model.fit(x_train_mod_one,        # обучающая выборка, входные данные\n",
        "          y_train_mod,        # обучающая выборка, выходные данные\n",
        "          batch_size=102, # кол-во примеров, которое обрабатывает нейронка перед одним изменением весов\n",
        "          epochs=15,      # количество эпох, когда нейронка обучается на всех примерах выборки\n",
        "          verbose=1)      # 0 - не визуализировать ход обучения, 1 - визуализировать"
      ],
      "metadata": {
        "id": "GV2ICue5kMX0",
        "outputId": "f1905cae-b484-4427-dad2-a0bd1a63c6e0",
        "colab": {
          "base_uri": "https://localhost:8080/"
        }
      },
      "execution_count": null,
      "outputs": [
        {
          "output_type": "stream",
          "name": "stdout",
          "text": [
            "Epoch 1/15\n",
            "1/1 [==============================] - 0s 330ms/step - loss: 0.7626 - accuracy: 0.4706\n",
            "Epoch 2/15\n",
            "1/1 [==============================] - 0s 10ms/step - loss: 3.1188 - accuracy: 0.5098\n",
            "Epoch 3/15\n",
            "1/1 [==============================] - 0s 14ms/step - loss: 0.7717 - accuracy: 0.5098\n",
            "Epoch 4/15\n",
            "1/1 [==============================] - 0s 7ms/step - loss: 1.6736 - accuracy: 0.4902\n",
            "Epoch 5/15\n",
            "1/1 [==============================] - 0s 9ms/step - loss: 1.5100 - accuracy: 0.4902\n",
            "Epoch 6/15\n",
            "1/1 [==============================] - 0s 9ms/step - loss: 0.8041 - accuracy: 0.4902\n",
            "Epoch 7/15\n",
            "1/1 [==============================] - 0s 9ms/step - loss: 0.6142 - accuracy: 0.5196\n",
            "Epoch 8/15\n",
            "1/1 [==============================] - 0s 8ms/step - loss: 0.9006 - accuracy: 0.5098\n",
            "Epoch 9/15\n",
            "1/1 [==============================] - 0s 7ms/step - loss: 0.8641 - accuracy: 0.5098\n",
            "Epoch 10/15\n",
            "1/1 [==============================] - 0s 6ms/step - loss: 0.6303 - accuracy: 0.5098\n",
            "Epoch 11/15\n",
            "1/1 [==============================] - 0s 7ms/step - loss: 0.5673 - accuracy: 0.6765\n",
            "Epoch 12/15\n",
            "1/1 [==============================] - 0s 8ms/step - loss: 0.6999 - accuracy: 0.5000\n",
            "Epoch 13/15\n",
            "1/1 [==============================] - 0s 7ms/step - loss: 0.7016 - accuracy: 0.5000\n",
            "Epoch 14/15\n",
            "1/1 [==============================] - 0s 14ms/step - loss: 0.5698 - accuracy: 0.5784\n",
            "Epoch 15/15\n",
            "1/1 [==============================] - 0s 10ms/step - loss: 0.5060 - accuracy: 0.9804\n"
          ]
        },
        {
          "output_type": "execute_result",
          "data": {
            "text/plain": [
              "<keras.callbacks.History at 0x7fe822e97160>"
            ]
          },
          "metadata": {},
          "execution_count": 106
        }
      ]
    },
    {
      "cell_type": "code",
      "source": [
        "model.save_weights('model.h5')\n",
        "model.load_weights('model.h5')"
      ],
      "metadata": {
        "id": "isxRmEtXlUDM"
      },
      "execution_count": null,
      "outputs": []
    },
    {
      "cell_type": "code",
      "source": [
        "# Номер тестовой цифры, которую будем распознавать\n",
        "n_rec = np.random.randint(x_train_mod.shape[0])\n",
        "\n",
        "# Отображение картинки из тестового набора под номером n_rec\n",
        "plt.imshow(x_train_mod[n_rec], cmap='gray')\n",
        "plt.show()"
      ],
      "metadata": {
        "id": "EFy2MsRXlaJ8",
        "outputId": "57b54700-7a68-4778-9fdd-8ef593a16362",
        "colab": {
          "base_uri": "https://localhost:8080/",
          "height": 265
        }
      },
      "execution_count": null,
      "outputs": [
        {
          "output_type": "display_data",
          "data": {
            "text/plain": [
              "<Figure size 432x288 with 1 Axes>"
            ],
            "image/png": "[encoded data removed]"
          },
          "metadata": {
            "needs_background": "light"
          }
        }
      ]
    },
    {
      "cell_type": "code",
      "source": [
        "# Выбор нужной картинки из тестовой выборки\n",
        "x = x_train_mod_one[n_rec]\n",
        "\n",
        "# Проверка формы данных\n",
        "print(x.shape)"
      ],
      "metadata": {
        "id": "S2QnW5Ikluct",
        "outputId": "cd8ab106-b411-4ca5-fa00-0c18698c9286",
        "colab": {
          "base_uri": "https://localhost:8080/"
        }
      },
      "execution_count": null,
      "outputs": [
        {
          "output_type": "stream",
          "name": "stdout",
          "text": [
            "(400,)\n"
          ]
        }
      ]
    },
    {
      "cell_type": "code",
      "source": [
        "# Добавление одной оси в начале, чтобы нейронка могла распознать пример\n",
        "# Массив из одного примера, так как нейронка принимает именно массивы примеров (батчи) для распознавания\n",
        "x = np.expand_dims(x, axis=0)\n",
        "\n",
        "# Проверка формы данных\n",
        "print(x.shape)"
      ],
      "metadata": {
        "id": "4PFH1tmTl2Nb",
        "outputId": "f5d5ecf2-b213-4064-98f6-60b62a9ff911",
        "colab": {
          "base_uri": "https://localhost:8080/"
        }
      },
      "execution_count": null,
      "outputs": [
        {
          "output_type": "stream",
          "name": "stdout",
          "text": [
            "(1, 400)\n"
          ]
        }
      ]
    },
    {
      "cell_type": "code",
      "source": [
        "prediction = model.predict(x) \n",
        "print(prediction)"
      ],
      "metadata": {
        "id": "gmHMNRy9l-YV",
        "outputId": "85f556db-cb4f-4d52-e8a5-c9b4b6324433",
        "colab": {
          "base_uri": "https://localhost:8080/"
        }
      },
      "execution_count": null,
      "outputs": [
        {
          "output_type": "stream",
          "name": "stdout",
          "text": [
            "1/1 [==============================] - 0s 16ms/step\n",
            "[[0.4105768 0.5894232]]\n"
          ]
        }
      ]
    },
    {
      "cell_type": "code",
      "source": [
        "pred = np.argmax(prediction)\n",
        "print(f'Распознана цифра: {pred}')"
      ],
      "metadata": {
        "id": "B3PJNbmumKez",
        "outputId": "2ed36b2c-9032-482f-f8d6-f1af3ec1e0c9",
        "colab": {
          "base_uri": "https://localhost:8080/"
        }
      },
      "execution_count": null,
      "outputs": [
        {
          "output_type": "stream",
          "name": "stdout",
          "text": [
            "Распознана цифра: 1\n"
          ]
        }
      ]
    }
  ]
}